{
 "cells": [
  {
   "cell_type": "markdown",
   "metadata": {},
   "source": [
    "Olá mundo da programação! Vem comigo nesse desafio"
   ]
  },
  {
   "cell_type": "markdown",
   "metadata": {},
   "source": [
    "Importando as bibliotecas necessarias e fazendo a Criação do objeto lemmatizer"
   ]
  },
  {
   "cell_type": "code",
   "execution_count": 8,
   "metadata": {},
   "outputs": [],
   "source": [
    "from nltk.stem import WordNetLemmatizer\n",
    "\n",
    "lemmatizer = WordNetLemmatizer()\n"
   ]
  },
  {
   "cell_type": "markdown",
   "metadata": {},
   "source": [
    " Palavras e Lematizando as palavras\n"
   ]
  },
  {
   "cell_type": "code",
   "execution_count": 9,
   "metadata": {},
   "outputs": [],
   "source": [
    "palavras = ['running', 'better', 'studies', 'wolves', 'mice', 'children', 'was', \n",
    "            'ate', 'swimming', 'parties', 'leaves', 'knives', 'happier', 'studying', \n",
    "            'played', 'goes', 'driving', 'talked']\n",
    "\n",
    "\n",
    "lemmas = [lemmatizer.lemmatize(palavra, pos='v') if palavra in ['running', 'swimming', 'played', 'talked', 'driving', 'goes', 'ate'] else lemmatizer.lemmatize(palavra) for palavra in palavras]"
   ]
  },
  {
   "cell_type": "markdown",
   "metadata": {},
   "source": [
    "Mostrando o resultado"
   ]
  },
  {
   "cell_type": "code",
   "execution_count": 10,
   "metadata": {},
   "outputs": [
    {
     "name": "stdout",
     "output_type": "stream",
     "text": [
      "['run', 'better', 'study', 'wolf', 'mouse', 'child', 'wa', 'eat', 'swim', 'party', 'leaf', 'knife', 'happier', 'studying', 'play', 'go', 'drive', 'talk']\n"
     ]
    }
   ],
   "source": [
    "print(lemmas)\n"
   ]
  }
 ],
 "metadata": {
  "kernelspec": {
   "display_name": "Python 3",
   "language": "python",
   "name": "python3"
  },
  "language_info": {
   "codemirror_mode": {
    "name": "ipython",
    "version": 3
   },
   "file_extension": ".py",
   "mimetype": "text/x-python",
   "name": "python",
   "nbconvert_exporter": "python",
   "pygments_lexer": "ipython3",
   "version": "3.12.1"
  }
 },
 "nbformat": 4,
 "nbformat_minor": 2
}
