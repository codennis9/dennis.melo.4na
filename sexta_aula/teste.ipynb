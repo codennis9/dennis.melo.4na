{
 "cells": [
  {
   "cell_type": "code",
   "execution_count": 1,
   "id": "39b6c8e9",
   "metadata": {},
   "outputs": [],
   "source": [
    "import numpy as np\n",
    "import pandas as pd\n",
    "import re\n",
    "import random\n",
    "from collections import defaultdict, Counter\n",
    "import matplotlib.pyplot as plt\n",
    "%matplotlib inline"
   ]
  },
  {
   "cell_type": "code",
   "execution_count": 2,
   "id": "fe70af56",
   "metadata": {},
   "outputs": [],
   "source": [
    "def limpar_texto(texto):\n",
    "    texto = texto.lower()  # Converte tudo para minúsculas\n",
    "    texto = re.sub(r'[^\\w\\s]', ' ', texto)  # Remove pontuações\n",
    "    texto = re.sub(r'\\d+', ' ', texto)      # Remove números\n",
    "    texto = re.sub(r'\\s+', ' ', texto)      # Substitui múltiplos espaços por um só\n",
    "    return texto.strip()"
   ]
  },
  {
   "cell_type": "code",
   "execution_count": 3,
   "id": "f49891e2",
   "metadata": {},
   "outputs": [],
   "source": [
    "texto_demo = \"\"\"\n",
    "A modelagem de linguagem natural é uma técnica importante no processamento de linguagem natural.\n",
    "Os modelos de linguagem podem ser usados para prever a próxima palavra em uma sequência.\n",
    "Existem diversos tipos de modelos de linguagem, incluindo modelos baseados em N-grams e modelos neurais.\n",
    "Os modelos baseados em N-grams são mais simples, mas ainda muito úteis em diversas aplicações.\n",
    "\"\"\""
   ]
  },
  {
   "cell_type": "code",
   "execution_count": null,
   "id": "48b351c5",
   "metadata": {},
   "outputs": [],
   "source": [
    "texto_tratado =  limpar_texto(texto_demo)\n",
    "print(\"Exemplo\", palavras[:10])"
   ]
  }
 ],
 "metadata": {
  "kernelspec": {
   "display_name": "Python 3",
   "language": "python",
   "name": "python3"
  },
  "language_info": {
   "codemirror_mode": {
    "name": "ipython",
    "version": 3
   },
   "file_extension": ".py",
   "mimetype": "text/x-python",
   "name": "python",
   "nbconvert_exporter": "python",
   "pygments_lexer": "ipython3",
   "version": "3.12.1"
  }
 },
 "nbformat": 4,
 "nbformat_minor": 5
}
